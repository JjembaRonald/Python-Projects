{
  "nbformat": 4,
  "nbformat_minor": 0,
  "metadata": {
    "colab": {
      "provenance": [],
      "authorship_tag": "ABX9TyNsEFzWxJMu5esdDQvWkgub",
      "include_colab_link": true
    },
    "kernelspec": {
      "name": "python3",
      "display_name": "Python 3"
    },
    "language_info": {
      "name": "python"
    }
  },
  "cells": [
    {
      "cell_type": "markdown",
      "metadata": {
        "id": "view-in-github",
        "colab_type": "text"
      },
      "source": [
        "<a href=\"https://colab.research.google.com/github/JjembaRonald/Python-Projects/blob/main/mobileplatforms.ipynb\" target=\"_parent\"><img src=\"https://colab.research.google.com/assets/colab-badge.svg\" alt=\"Open In Colab\"/></a>"
      ]
    },
    {
      "cell_type": "code",
      "execution_count": 23,
      "metadata": {
        "colab": {
          "base_uri": "https://localhost:8080/"
        },
        "id": "NO_ZKv3rZs7g",
        "outputId": "de10a44d-08d6-4c99-d894-dc0219452bca"
      },
      "outputs": [
        {
          "output_type": "stream",
          "name": "stdout",
          "text": [
            "THis is a list top five mobile platforms in Uganda\n",
            "\n",
            "\n",
            "Default order\n",
            "['MTN Uganda', 'Airtel UG', 'Lycamobile UG', 'Talkio mobile', 'Roke Telkom UG']\n",
            "\n",
            "\n",
            "Reverse Order\n",
            "['Roke Telkom UG', 'Talkio mobile', 'Lycamobile UG', 'Airtel UG', 'MTN Uganda']\n",
            "\n",
            "\n",
            "Alphabetically\n",
            "['Airtel UG', 'Lycamobile UG', 'MTN Uganda', 'Roke Telkom UG', 'Talkio mobile']\n",
            "\n",
            "\n",
            "Alphabetically but in the reverse order\n",
            "['Talkio mobile', 'Roke Telkom UG', 'MTN Uganda', 'Lycamobile UG', 'Airtel UG']\n",
            "\n",
            "\n",
            "A dictionary to map the mobile platforms with their corresponding transactions\n",
            "Below are the mobile platforms(keys)\n",
            "dict_keys(['MTN Uganda', 'Airtel UG', 'Lycamobile UG', 'Talkio Mobile', 'Roke Telkom UG'])\n",
            "\n",
            "\n",
            "Below are the Mobile transation costs(values)\n",
            "dict_values([2000, 1500, 1300, 1200, 1000])\n",
            "\n",
            "\n",
            "mobile platforms and their transaction cost (keys:values)\n",
            "MTN Uganda:\t 2000\n",
            "Airtel UG:\t 1500\n",
            "Lycamobile UG:\t 1300\n",
            "Talkio Mobile:\t 1200\n",
            "Roke Telkom UG:\t 1000\n"
          ]
        }
      ],
      "source": [
        "mobilePlatforms = ['MTN Uganda', 'Airtel UG', 'Lycamobile UG', 'Talkio mobile', 'Roke Telkom UG']\n",
        "print('THis is a list top five mobile platforms in Uganda')\n",
        "\n",
        "print('\\n')\n",
        "print('Default order')\n",
        "print(mobilePlatforms)\n",
        "\n",
        "print('\\n')\n",
        "print('Reverse Order')\n",
        "mobilePlatforms.reverse()\n",
        "print(mobilePlatforms)\n",
        "\n",
        "print('\\n')\n",
        "print('Alphabetically')\n",
        "mobilePlatforms.sort()\n",
        "print(mobilePlatforms)\n",
        "\n",
        "print('\\n')\n",
        "print('Alphabetically but in the reverse order')\n",
        "mobilePlatforms.sort(reverse = True)\n",
        "print(mobilePlatforms)\n",
        "\n",
        "print('\\n')\n",
        "print('A dictionary to map the mobile platforms with their corresponding transactions')\n",
        "transaction_Fee = {\n",
        "    'MTN Uganda': 2000,\n",
        "    'Airtel UG': 1500,\n",
        "    'Lycamobile UG': 1300,\n",
        "    'Talkio Mobile': 1200,\n",
        "    'Roke Telkom UG': 1000\n",
        "}\n",
        "\n",
        "print('Below are the mobile platforms(keys)')\n",
        "print(transaction_Fee.keys())\n",
        "print('\\n')\n",
        "print('Below are the Mobile transation costs(values)')\n",
        "print(transaction_Fee.values())\n",
        "\n",
        "print('\\n')\n",
        "print('mobile platforms and their transaction cost (keys:values)')\n",
        "for platform in transaction_Fee.keys():\n",
        "  #print(platform)\n",
        "  print(platform + ':' + '\\t', transaction_Fee[platform])\n",
        ""
      ]
    }
  ]
}